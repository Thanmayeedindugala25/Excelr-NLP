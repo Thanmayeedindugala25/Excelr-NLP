{
  "nbformat": 4,
  "nbformat_minor": 0,
  "metadata": {
    "colab": {
      "provenance": [],
      "mount_file_id": "1zubssN96oUFpC5OPoJAdOCCmumsS5g0-",
      "authorship_tag": "ABX9TyOYqzJ4NuHq0PLJ1mgGZkLg",
      "include_colab_link": true
    },
    "kernelspec": {
      "name": "python3",
      "display_name": "Python 3"
    },
    "language_info": {
      "name": "python"
    }
  },
  "cells": [
    {
      "cell_type": "markdown",
      "metadata": {
        "id": "view-in-github",
        "colab_type": "text"
      },
      "source": [
        "<a href=\"https://colab.research.google.com/github/Thanmayeedindugala25/Excelr-NLP/blob/main/15_03_2025.ipynb\" target=\"_parent\"><img src=\"https://colab.research.google.com/assets/colab-badge.svg\" alt=\"Open In Colab\"/></a>"
      ]
    },
    {
      "cell_type": "code",
      "execution_count": null,
      "metadata": {
        "id": "y_eOKDWFffgD"
      },
      "outputs": [],
      "source": [
        "import google.generativeai as genai\n",
        "from google.colab import userdata\n",
        "GOOGLE_API_KEY= userdata.get('GOOGLE_API_KEY')\n",
        "genai.configure(api_key=GOOGLE_API_KEY)"
      ]
    },
    {
      "cell_type": "code",
      "source": [
        "pip install PyPDF2"
      ],
      "metadata": {
        "colab": {
          "base_uri": "https://localhost:8080/"
        },
        "id": "Qh_Rtpj5gl2i",
        "outputId": "7e219280-2326-46e5-8fbe-6860b00104fc"
      },
      "execution_count": null,
      "outputs": [
        {
          "output_type": "stream",
          "name": "stdout",
          "text": [
            "Collecting PyPDF2\n",
            "  Downloading pypdf2-3.0.1-py3-none-any.whl.metadata (6.8 kB)\n",
            "Downloading pypdf2-3.0.1-py3-none-any.whl (232 kB)\n",
            "\u001b[?25l   \u001b[90m━━━━━━━━━━━━━━━━━━━━━━━━━━━━━━━━━━━━━━━━\u001b[0m \u001b[32m0.0/232.6 kB\u001b[0m \u001b[31m?\u001b[0m eta \u001b[36m-:--:--\u001b[0m\r\u001b[2K   \u001b[90m━━━━━━━━━━━━━━━━━━━━━━━━━━━━━━━━━━━━━━━━\u001b[0m \u001b[32m232.6/232.6 kB\u001b[0m \u001b[31m7.9 MB/s\u001b[0m eta \u001b[36m0:00:00\u001b[0m\n",
            "\u001b[?25hInstalling collected packages: PyPDF2\n",
            "Successfully installed PyPDF2-3.0.1\n"
          ]
        }
      ]
    },
    {
      "cell_type": "code",
      "source": [
        "import google.generativeai as genai\n",
        "from google.colab import userdata\n",
        "GOOGLE_API_KEY=userdata.get('GOOGLE_API_KEY')\n",
        "genai.configure(api_key=GOOGLE_API_KEY)"
      ],
      "metadata": {
        "id": "o0BC8h-PhWwf"
      },
      "execution_count": null,
      "outputs": []
    },
    {
      "cell_type": "code",
      "source": [
        "pip install PyPDF2"
      ],
      "metadata": {
        "id": "HgAfkSbMhENK",
        "colab": {
          "base_uri": "https://localhost:8080/"
        },
        "outputId": "88ccf7c0-4315-4f2d-d794-4464366a843e"
      },
      "execution_count": null,
      "outputs": [
        {
          "output_type": "stream",
          "name": "stdout",
          "text": [
            "Requirement already satisfied: PyPDF2 in /usr/local/lib/python3.11/dist-packages (3.0.1)\n"
          ]
        }
      ]
    },
    {
      "cell_type": "code",
      "source": [
        "import PyPDF2\n",
        "def extract_text_from_pdf(pdf_path):\n",
        "  text=\"\"\n",
        "  with open(pdf_path,'rb') as file:\n",
        "      reader=PyPDF2.PdfReader(file)\n",
        "      for page in reader.pages:\n",
        "        text += page.extract_text() + \"\\n\"\n",
        "  return text"
      ],
      "metadata": {
        "id": "1W7aD082ha3G"
      },
      "execution_count": null,
      "outputs": []
    },
    {
      "cell_type": "code",
      "source": [
        "def extract_health_insights(text):\n",
        "  model=genai.GenerativeModel(\"gemini-1.5-flash\")\n",
        "  prompt = f\"Entract key insights from the following health report: \\n\\n {text}\"\n",
        "  response = model.generate_content(prompt)\n",
        "  return response.text\n",
        "pdf_file = \"health_report.pdf\"\n",
        "extracted_text = extract_text_from_pdf(pdf_file)\n",
        "insights = extract_health_insights(extracted_text)\n",
        "print(\"Key Insights\\n\",insights)"
      ],
      "metadata": {
        "colab": {
          "base_uri": "https://localhost:8080/",
          "height": 592
        },
        "id": "U-mLUf_Wh_np",
        "outputId": "39fd0109-2537-4a7a-9498-63d15f3e8634"
      },
      "execution_count": null,
      "outputs": [
        {
          "output_type": "stream",
          "name": "stdout",
          "text": [
            "Key Insights\n",
            " Mr. Kishan Goud's (MR Number: MR2100003157) health report from February 1st, 2021, reveals the following key insights:\n",
            "\n",
            "**Infections:**\n",
            "\n",
            "* **Widal Test:**  Elevated titers for *Salmonella Typhi* \"O\" (1:160) and \"H\" (1:80) suggest a possible past or current *Salmonella Typhi* infection.  The *Salmonella Paratyphi* \"AH\" and \"BH\" titers are within the reference range.  Further investigation may be needed to confirm active infection.\n",
            "\n",
            "* **Dengue Serology:**  Negative results for Dengue NS1 antigen, IgG, and IgM antibodies indicate no current or recent dengue fever infection.\n",
            "\n",
            "* **Malaria:** Negative rapid malaria tests for both *Plasmodium falciparum* and *Plasmodium vivax* rule out malaria.\n",
            "\n",
            "\n",
            "**Blood Work:**\n",
            "\n",
            "* **Complete Blood Picture (CBC):**  All values (Hemoglobin, RBC, WBC, Platelets, PCV, and differential count) are within or near the normal ranges.  The peripheral blood smear shows normal RBC morphology and WBC count.\n",
            "\n",
            "* **Erythrocyte Sedimentation Rate (ESR):** Elevated (26 mm/hr in the first hour, 52 mm/hr in the second hour), suggesting possible inflammation or infection.  This is consistent with the Widal test results.\n",
            "\n",
            "* **HbA1c:**  At 5.4%, indicating good blood sugar control and no evidence of diabetes.\n",
            "\n",
            "* **Blood Glucose:** Random blood glucose level was not provided.\n",
            "\n",
            "* **Creatinine:**  Serum creatinine (0.8 mg/dl) is within the normal range, indicating normal kidney function.\n",
            "\n",
            "* **Liver Function Tests (LFTs):**  All liver function markers (bilirubin - total, direct, indirect; alkaline phosphatase; SGOT; SGPT; total protein; albumin; globulin; A/G ratio) are within the normal ranges, indicating normal liver function.\n",
            "\n",
            "* **Electrolytes:** Serum sodium (122 mmol/l) is slightly low; potassium (3.5 mmol/l), and chloride (97 mmol/l) are within the reference ranges.  The low sodium warrants further investigation and consideration of potential causes.\n",
            "\n",
            "**Overall:**\n",
            "\n",
            "The report points towards a possible *Salmonella Typhi* infection, supported by the elevated Widal test results and slightly elevated ESR.  However, the absence of other acute symptoms and the normal results of other tests need to be considered. The slightly low serum sodium warrants further attention.  The patient's doctor should interpret these findings in the context of his clinical presentation and history to arrive at a definitive diagnosis and treatment plan.\n",
            "\n"
          ]
        }
      ]
    },
    {
      "cell_type": "code",
      "source": [
        "def summarize_health_report(text):\n",
        "    \"\"\"Summarizes the health report using Gemini AI.\"\"\"\n",
        "    model = genai.GenerativeModel(\"gemini-1.5-flash\")\n",
        "    prompt = f\"Summarize the following health report:\\n\\n{text}\"\n",
        "    response = model.generate_content(prompt)\n",
        "    return response.text\n",
        "\n",
        "summary = summarize_health_report(extracted_text)\n",
        "print(\"Summary:\\n\", summary)"
      ],
      "metadata": {
        "colab": {
          "base_uri": "https://localhost:8080/",
          "height": 488
        },
        "id": "dc-WNHXBkbE1",
        "outputId": "6b428dfa-1028-4e1b-c8ee-2bbc14b77f73"
      },
      "execution_count": null,
      "outputs": [
        {
          "output_type": "stream",
          "name": "stdout",
          "text": [
            "Summary:\n",
            " Mr. Kishan Goud's (MR2100003157) lab results from January 2nd, 2021, show:\n",
            "\n",
            "* **Widal Test:** Elevated titers for *Salmonella Typhi* \"O\" (1:160) and \"H\" (1:80), suggesting possible typhoid fever.  *Salmonella Paratyphi* AH and BH were within the reference range.\n",
            "\n",
            "* **Dengue Serology:** Negative for Dengue NS1 antigen, IgG, and IgM.\n",
            "\n",
            "* **ESR:** Elevated (26 mm/hr in the first hour, 52 mm/hr in the second hour), indicating inflammation.\n",
            "\n",
            "* **Malaria Test:** Negative for *Plasmodium vivax* and *Plasmodium falciparum*.\n",
            "\n",
            "* **Complete Blood Picture:**  Hemoglobin, RBC, WBC, and platelets within normal limits, with a normal differential count.  Peripheral blood smear showed normal findings.\n",
            "\n",
            "* **HbA1c:** 5.4%, within the normal non-diabetic range.\n",
            "\n",
            "* **Serum Creatinine:** 0.8 mg/dl, within the normal range.\n",
            "\n",
            "* **Random Blood Glucose:**  The report does not specify the value, but the range is listed as 60-170 mg/dl.\n",
            "\n",
            "* **Liver Function Tests:** All values (bilirubin, alkaline phosphatase, SGOT, SGPT, total protein, albumin, globulin, A/G ratio) are within normal limits.\n",
            "\n",
            "* **Serum Electrolytes:** Sodium (122 mmol/l) is slightly below the normal range, while potassium and chloride are within normal limits.\n",
            "\n",
            "\n",
            "**Overall:** The most significant finding is the elevated Widal test suggesting possible typhoid fever.  The elevated ESR supports the presence of inflammation.  Further investigation and clinical correlation are necessary for diagnosis and treatment.  The other tests largely show results within normal ranges.\n",
            "\n"
          ]
        }
      ]
    },
    {
      "cell_type": "code",
      "source": [
        "from typing import Text\n",
        "def detect_abnormalities(text):\n",
        "  model=genai.GenerativeModel(\"gemini-1.5-flash\")\n",
        "  prompt = f\"Analyze the lab test results in the following health report and highlight any abnormal values:\\n\\n{Text}\"\n",
        "  response =model.generate_content(prompt)\n",
        "  return response.text\n",
        "abnormalities = detect_abnormalities(extracted_text)\n",
        "print(\"Potential Abnormalities:\\n\",abnormalities)"
      ],
      "metadata": {
        "colab": {
          "base_uri": "https://localhost:8080/",
          "height": 89
        },
        "id": "WGcr11nHmeqt",
        "outputId": "ceb1e22b-eaab-42cb-89c1-f01075ebdfe7"
      },
      "execution_count": null,
      "outputs": [
        {
          "output_type": "stream",
          "name": "stdout",
          "text": [
            "Potential Abnormalities:\n",
            " Please provide the lab test results.  I need the actual data from the health report to analyze it and identify any abnormal values.  The statement \"<class 'str'>\" only tells me the data type, not the data itself.\n",
            "\n"
          ]
        }
      ]
    },
    {
      "cell_type": "code",
      "source": [
        "def explain_medical_terms(text):\n",
        "  model = genai.GenerativeModel(\"gemini-1.5-flash\")\n",
        "  prompt = f\"Explain the following medical terms in the following health report in simple language:\\n\\n{text}\"\n",
        "  response = model.generate_content(prompt)\n",
        "  return response.text\n",
        "explanation = explain_medical_terms(extracted_text)\n",
        "print(\"Simplified Explanation:\\n\",explanation)"
      ],
      "metadata": {
        "id": "Eq4B-8pwowct",
        "colab": {
          "base_uri": "https://localhost:8080/",
          "height": 887
        },
        "outputId": "2a201f6d-3a15-447e-d2c2-8ae239b25876"
      },
      "execution_count": 12,
      "outputs": [
        {
          "output_type": "stream",
          "name": "stdout",
          "text": [
            "Simplified Explanation:\n",
            " This report shows the results of various blood tests performed on Mr. Kishan Goud. Let's break down the results in simple terms:\n",
            "\n",
            "**1. Widal Test:** This test checks for antibodies against *Salmonella typhi* and *Salmonella paratyphi*, bacteria that cause typhoid fever and paratyphoid fever.  The results are expressed as dilutions.  A higher number means a stronger antibody response, suggesting possible infection.\n",
            "\n",
            "* **S. Typhi \"O\" 1:160:**  This indicates a moderate antibody response to one part of the *Salmonella typhi* bacteria.\n",
            "* **S. Typhi \"H\" 1:80:** This shows a moderate antibody response to another part of the *Salmonella typhi* bacteria.\n",
            "* **S. Paratyphi \"AH\" 1:20:** This is within the normal range, suggesting no infection with this specific bacteria.\n",
            "* **S. Paratyphi \"BH\" 1:20:** This is within the normal range, suggesting no infection with this specific bacteria.\n",
            "\n",
            "**Important Note:**  While the S. Typhi results suggest possible past or present infection, a Widal test alone isn't definitive.  Further tests might be needed to confirm a typhoid diagnosis.\n",
            "\n",
            "\n",
            "**2. Dengue Serology:** This tests for dengue fever, a viral infection spread by mosquitoes.\n",
            "\n",
            "* **Dengue NS1 Antigen Negative:** This means the test didn't detect the dengue virus protein NS1, a marker of active infection.\n",
            "* **Dengue IgG Negative:** This means the test didn't detect IgG antibodies, which indicate past exposure to the dengue virus.\n",
            "* **Dengue IgM Negative:** This means the test didn't detect IgM antibodies, which indicate a recent or current dengue virus infection.\n",
            "\n",
            "\n",
            "**3. Erythrocyte Sedimentation Rate (ESR):** This test measures how quickly red blood cells settle at the bottom of a test tube. A higher rate can indicate inflammation in the body.  Mr. Kishan Goud's results are elevated (26 mm/hr in the first hour, 52 mm/hr in the second), suggesting possible inflammation.\n",
            "\n",
            "**4. Rapid Malaria Test:** This quickly tests for malaria parasites in the blood.  Both *Plasmodium vivax* (P.V.) and *Plasmodium falciparum* (P.F.) tests were negative, meaning no malaria parasites were detected.\n",
            "\n",
            "**5. Complete Blood Picture (CBC):** This provides a comprehensive overview of the blood's components.  Mr. Kishan Goud's results are mostly within the normal range:\n",
            "\n",
            "* **Hemoglobin (Hb):**  Carries oxygen in the blood (13.6 g/dL - normal).\n",
            "* **Red Blood Cells (RBC):**  Carry oxygen (4.3 million/cu mm - slightly low, but within the acceptable range).\n",
            "* **White Blood Cells (WBC):** Fight infection (7,200 cells/cu mm - normal).\n",
            "* **Platelets:** Help with blood clotting (2.0 lakhs/cu mm - normal).\n",
            "* **Packed Cell Volume (PCV):** The percentage of red blood cells in the blood (40.5% - normal).\n",
            "* **Differential Count:** This breaks down the types of white blood cells.  All are within normal limits.\n",
            "* **Peripheral Blood Smear:** A microscopic examination of the blood; the report indicates normal findings.\n",
            "\n",
            "\n",
            "**6. HbA1c:** This test measures average blood sugar levels over the past 2-3 months.  Mr. Kishan Goud's result is 5.4%, which falls within the normal non-diabetic range, indicating good blood sugar control.\n",
            "\n",
            "\n",
            "**7. Serum Creatinine:** This measures kidney function.  Mr. Kishan Goud's result (0.8 mg/dL) is within the normal range.\n",
            "\n",
            "\n",
            "**8. Random Blood Glucose:** This measures blood sugar at a random time.  Mr. Goud's result is not provided in this excerpt, but the reference range is 60-170 mg/dL.\n",
            "\n",
            "**9. Liver Function Test (LFT):** These tests assess liver health. All results (bilirubin - total, direct, indirect, alkaline phosphatase, SGOT, SGPT, total protein, albumin, globulin, A/G ratio) fall within normal ranges.\n",
            "\n",
            "**10. Serum Electrolytes:** These tests measure the levels of essential minerals in the blood.  Sodium is slightly low (122 mmol/L), while potassium and chloride are within the normal range.\n",
            "\n",
            "**In summary:** While some results show slight deviations from the ideal range (like ESR and slightly low sodium), most of Mr. Kishan Goud's blood test results are within normal limits. The slightly elevated ESR suggests inflammation, and the Widal test results raise a possibility of past or current typhoid infection. A clinician should interpret these results in the context of his complete medical history and physical examination to reach a diagnosis and treatment plan.\n",
            "\n"
          ]
        }
      ]
    },
    {
      "cell_type": "code",
      "source": [
        "def ask_gemini_about_report(text, question):\n",
        "    \"\"\"Allows users to ask questions about their health report.\"\"\"\n",
        "    model = genai.GenerativeModel(\"gemini-1.5-flash\")\n",
        "    prompt = f\"The following is a health report:\\n\\n{text}\\n\\nAnswer the following question based on the report:\\n{question}\"\n",
        "    response = model.generate_content(prompt)\n",
        "    return response.text\n",
        "\n",
        "question = \"What is the patient's diagnosis?\"\n",
        "answer = ask_gemini_about_report(extracted_text, question)\n",
        "print(\"Answer:\\n\", answer)"
      ],
      "metadata": {
        "colab": {
          "base_uri": "https://localhost:8080/",
          "height": 89
        },
        "id": "HxsjWFx9qV1D",
        "outputId": "b61a7420-c58e-48cd-c590-d4a59870b7d3"
      },
      "execution_count": 13,
      "outputs": [
        {
          "output_type": "stream",
          "name": "stdout",
          "text": [
            "Answer:\n",
            " The provided lab report does not offer a diagnosis.  It presents various test results, some outside the normal range (e.g., elevated ESR), but these results alone are insufficient to establish a diagnosis.  A diagnosis requires clinical evaluation by a physician considering the patient's symptoms, medical history, and these lab results in context.\n",
            "\n"
          ]
        }
      ]
    },
    {
      "cell_type": "code",
      "source": [],
      "metadata": {
        "id": "UI8r24HurKBR"
      },
      "execution_count": null,
      "outputs": []
    }
  ]
}