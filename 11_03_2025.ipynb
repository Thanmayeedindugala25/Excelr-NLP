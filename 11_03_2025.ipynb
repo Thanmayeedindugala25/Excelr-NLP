{
  "nbformat": 4,
  "nbformat_minor": 0,
  "metadata": {
    "colab": {
      "provenance": [],
      "authorship_tag": "ABX9TyNHtfe6mbRDTAf7pr/6f25P",
      "include_colab_link": true
    },
    "kernelspec": {
      "name": "python3",
      "display_name": "Python 3"
    },
    "language_info": {
      "name": "python"
    }
  },
  "cells": [
    {
      "cell_type": "markdown",
      "metadata": {
        "id": "view-in-github",
        "colab_type": "text"
      },
      "source": [
        "<a href=\"https://colab.research.google.com/github/Thanmayeedindugala25/Excelr-NLP/blob/main/11_03_2025.ipynb\" target=\"_parent\"><img src=\"https://colab.research.google.com/assets/colab-badge.svg\" alt=\"Open In Colab\"/></a>"
      ]
    },
    {
      "cell_type": "code",
      "execution_count": 1,
      "metadata": {
        "id": "jSXBnOFS9pet"
      },
      "outputs": [],
      "source": [
        "import google.generativeai as genai\n",
        "from google.colab import userdata\n",
        "GOOGLE_API_KEY=userdata.get('GOOGLE_API_KEY')\n",
        "genai.configure(api_key=GOOGLE_API_KEY)"
      ]
    },
    {
      "cell_type": "code",
      "source": [
        "import pathlib\n",
        "import textwrap\n",
        "from IPython.display import display, Markdown\n",
        "def to_markdown(text):\n",
        "  text = text.replace('•', '  *')\n",
        "  return Markdown(textwrap.indent(text, '> ', predicate=lambda _: True))"
      ],
      "metadata": {
        "id": "s9vGM6Lj_Aan"
      },
      "execution_count": 2,
      "outputs": []
    },
    {
      "cell_type": "code",
      "source": [
        "import PIL.Image\n",
        "img = PIL.Image.open('image1.jpg')\n",
        "img\n",
        "model = genai.GenerativeModel('gemini-1.5-flash')\n",
        "response = model.generate_content([\"Write a short, engaging blog post based on this picture. It should include a description of the meal in the photo and talk about my journey meal prepping.\", img], stream=True)\n",
        "response.resolve()"
      ],
      "metadata": {
        "id": "2wDW6iNC_G6z"
      },
      "execution_count": 3,
      "outputs": []
    },
    {
      "cell_type": "code",
      "source": [
        "to_markdown(response.text)"
      ],
      "metadata": {
        "colab": {
          "base_uri": "https://localhost:8080/",
          "height": 382
        },
        "id": "vrV0alfP_IB4",
        "outputId": "4d78d203-46bc-4cb4-b544-9af946c49106"
      },
      "execution_count": 4,
      "outputs": [
        {
          "output_type": "execute_result",
          "data": {
            "text/plain": [
              "<IPython.core.display.Markdown object>"
            ],
            "text/markdown": "> ## My Meal Prep Journey: From Chaos to Calm (and Delicious!)\n> \n> Let's be honest, weekday dinners can be a stressful scramble.  Between work, errands, and everything else, cooking a healthy meal often feels impossible.  That's why I finally decided to give meal prepping a try, and let me tell you, it's been a game-changer!\n> \n> This picture shows my latest creation: two containers of delicious teriyaki chicken and veggies over fluffy white rice. Each serving is packed with protein from the chicken, fiber from the broccoli and carrots, and satisfying carbs from the rice. It's the perfect balanced meal, and the best part? It took me just an hour on Sunday to prepare enough lunches for the entire week.\n> \n> My journey wasn't always so smooth though.  My first attempts were...let's just say *enthusiastic*. I overestimated my time, underestimated my appetite, and ended up with a fridge full of weird, half-eaten containers.  Through trial and error (and a few burnt batches of broccoli), I learned a few crucial things:\n> \n> * **Plan your meals:**  Decide what you'll make *before* you go shopping. This helps avoid impulse buys and ensures you have all the necessary ingredients.\n> * **Prep smart:**  Chopping veggies and marinating meat ahead of time saves a ton of time during the cooking process.\n> * **Portion wisely:** Use containers of consistent size to make sure your portions are accurate.\n> * **Embrace simplicity:** Don't try to make five different complicated dishes.  Start with a few simple, healthy recipes that you enjoy.\n> \n> Now, instead of stressing over dinner, I have healthy, delicious meals ready to go.  It's not just saved me time, it's improved my diet and reduced my stress levels.  So, if you're on the fence about meal prepping, I urge you to give it a try! It's worth it.  What are your favorite meal prep tips?  Share them in the comments below!\n"
          },
          "metadata": {},
          "execution_count": 4
        }
      ]
    },
    {
      "cell_type": "code",
      "source": [
        "response = model.generate_content([\"Generate an accurate caption for this image.\", img])\n",
        "print(response.text)"
      ],
      "metadata": {
        "id": "YpF94cB4_96u",
        "colab": {
          "base_uri": "https://localhost:8080/",
          "height": 381
        },
        "outputId": "6ff7e81f-0efd-4a22-c3dd-e1b2420e5d67"
      },
      "execution_count": 5,
      "outputs": [
        {
          "output_type": "stream",
          "name": "stdout",
          "text": [
            "Here are a few caption options for the image:\n",
            "\n",
            "**Option 1 (Simple & Descriptive):**\n",
            "\n",
            "> Healthy and delicious meal prep!  Chicken and broccoli with rice.\n",
            "\n",
            "**Option 2 (More Engaging):**\n",
            "\n",
            "> Lunch goals!  These easy-to-pack containers are perfect for healthy eating on the go.  Chicken, broccoli, carrots, and rice — yum!\n",
            "\n",
            "**Option 3 (Focus on Convenience):**\n",
            "\n",
            "> Make meal prepping easy with these delicious and nutritious containers.  Perfect for busy weeknights!\n",
            "\n",
            "**Option 4 (Question to Engage Audience):**\n",
            "\n",
            "> What's your favorite healthy meal prep idea?  This chicken and veggie bowl is definitely a contender!\n",
            "\n",
            "\n",
            "Choose the caption that best suits your intended audience and platform.\n",
            "\n"
          ]
        }
      ]
    },
    {
      "cell_type": "code",
      "source": [
        "from PIL import Image\n",
        "# Open an image\n",
        "image_path = \"/content/image2.jpg\"\n",
        "image = Image.open(image_path)\n",
        "# Generate a description of the image\n",
        "response = model.generate_content([\"Describe this image in detail.\", image])\n",
        "print(response.text)"
      ],
      "metadata": {
        "colab": {
          "base_uri": "https://localhost:8080/",
          "height": 263
        },
        "id": "U4cRZZlYC-yX",
        "outputId": "99ae83dc-38e4-4d5d-fed2-a89a2e27b224"
      },
      "execution_count": 6,
      "outputs": [
        {
          "output_type": "stream",
          "name": "stdout",
          "text": [
            "Here's a description of the image:\n",
            "\n",
            "Close-up view of a woman with shoulder-length, curly brown hair. \n",
            "\n",
            "\n",
            "She's smiling and gesturing with her right index finger, pointing to her left, suggesting she's indicating something off-camera. \n",
            "\n",
            "\n",
            "She's wearing a teal-colored, three-quarter-sleeved top with a subtle, gold-toned pattern or print. The top appears to be a loose-fitting, casual style, possibly a kurta or tunic. Her arms are crossed, with one hand gesturing.\n",
            "\n",
            "\n",
            "The background is a plain, bright white, which keeps the focus entirely on the woman. The overall lighting is soft and even, creating a clean and well-lit image. The woman's expression is friendly and approachable.\n",
            "\n"
          ]
        }
      ]
    },
    {
      "cell_type": "code",
      "source": [
        "response = model.generate_content([\"What emotions can you detect in this image?\", image])\n",
        "print(response.text)"
      ],
      "metadata": {
        "colab": {
          "base_uri": "https://localhost:8080/",
          "height": 173
        },
        "id": "fIICNzVuFQo_",
        "outputId": "5bf462fb-7db6-449c-bcf4-d0bec5dee4b6"
      },
      "execution_count": 7,
      "outputs": [
        {
          "output_type": "stream",
          "name": "stdout",
          "text": [
            "The woman in the image appears to be expressing:\n",
            "\n",
            "* **Happiness/Joy:** Her smile is genuine and her eyes crinkle slightly at the corners, indicating genuine amusement or happiness.\n",
            "* **Helpfulness/Friendliness:**  Her pointing gesture, combined with her smile, suggests she is offering assistance or direction.  She looks approachable and welcoming.\n",
            "* **Confidence/Assurance:** Her posture and direct gaze are confident, not shy or hesitant.\n",
            "\n",
            "\n",
            "The overall emotion conveyed is one of positive and helpful engagement. There are no negative emotions visible in her expression or body language.\n",
            "\n"
          ]
        }
      ]
    },
    {
      "cell_type": "code",
      "source": [
        "image_path = \"logo1.jpg\"\n",
        "image = Image.open(image_path)\n",
        "response = model.generate_content([\"Identify the brand or company associated with this logo\", image])\n",
        "print(response.text)"
      ],
      "metadata": {
        "id": "wASbJCE5FucO",
        "colab": {
          "base_uri": "https://localhost:8080/",
          "height": 52
        },
        "outputId": "f47d0aa9-ae1a-4ea9-be12-f1f06b545b5d"
      },
      "execution_count": 9,
      "outputs": [
        {
          "output_type": "stream",
          "name": "stdout",
          "text": [
            "That's the logo for **Amazon**.\n",
            "\n"
          ]
        }
      ]
    },
    {
      "cell_type": "markdown",
      "source": [
        "**Detecting Products from an Immage**"
      ],
      "metadata": {
        "id": "I6e86_los_Uh"
      }
    },
    {
      "cell_type": "code",
      "source": [
        "image_path = \"product.jpg\"\n",
        "image = Image.open(image_path)\n",
        "response = model.generate_content([\"What product is shown in this image?\", image])\n",
        "print(response.text)"
      ],
      "metadata": {
        "colab": {
          "base_uri": "https://localhost:8080/",
          "height": 52
        },
        "id": "rsSmxnm7slbM",
        "outputId": "a04ae604-2231-4335-d036-6201e84b9616"
      },
      "execution_count": 11,
      "outputs": [
        {
          "output_type": "stream",
          "name": "stdout",
          "text": [
            "That's a pair of black over-ear headphones.  They appear to be wireless, judging by the lack of visible wire.\n",
            "\n"
          ]
        }
      ]
    },
    {
      "cell_type": "markdown",
      "source": [
        "**Finding Similar Products**"
      ],
      "metadata": {
        "id": "vXa5-v5nt3NS"
      }
    },
    {
      "cell_type": "code",
      "source": [
        "response = model.generate_content([\"Suugest similar product to this one.\", image])\n",
        "print(response.text)"
      ],
      "metadata": {
        "colab": {
          "base_uri": "https://localhost:8080/",
          "height": 401
        },
        "id": "L0PHF8aEtPls",
        "outputId": "21fde9ce-1d5b-4a3d-af8c-d48533298f74"
      },
      "execution_count": 12,
      "outputs": [
        {
          "output_type": "stream",
          "name": "stdout",
          "text": [
            "Here are some similar products to the pictured black over-ear headphones.  To give you the best suggestions, I need a little more information.  Do you have a price range in mind?  Are there any specific features you're looking for (e.g., noise cancellation, wireless, specific brand)?\n",
            "\n",
            "However, in general, you could look for similar products by searching online retailers like Amazon, Best Buy, or directly on headphone brand websites using search terms like:\n",
            "\n",
            "* **\"Over-ear headphones black\"**: This will give you a broad range of options.\n",
            "* **\"Closed-back headphones\"**: This specifies the type of headphone design (closed-back means they isolate sound better).\n",
            "* **\"Wireless over-ear headphones\"**: If you want wireless functionality.\n",
            "* **\"Noise-canceling over-ear headphones\"**: If you prioritize noise cancellation.\n",
            "\n",
            "Brands that frequently make similar headphones include:\n",
            "\n",
            "* **Sony:** Known for their excellent sound quality and noise-canceling technology.\n",
            "* **Bose:**  Another popular brand with a focus on noise cancellation and comfortable designs.\n",
            "* **Audio-Technica:** Offers a wide range of headphones at different price points.\n",
            "* **Sennheiser:**  A high-quality headphone brand known for their accurate sound reproduction.\n",
            "* **JBL:** Popular for their bass-heavy sound profiles and stylish designs.\n",
            "* **Beats by Dre:** Known for their stylish designs and bass-forward sound.\n",
            "\n",
            "\n",
            "Once you provide more details about your preferences, I can offer more specific recommendations.\n",
            "\n"
          ]
        }
      ]
    },
    {
      "cell_type": "code",
      "source": [
        "image_path = \"invoice.jpg\"\n",
        "image = Image.open(image_path)\n",
        "response = model.generate_content([\"Extract the price from this image.\", image])\n",
        "print(response.text)"
      ],
      "metadata": {
        "colab": {
          "base_uri": "https://localhost:8080/",
          "height": 34
        },
        "id": "Swkp877FuXZo",
        "outputId": "8e7c0641-9e61-4d07-ce43-5cba66812122"
      },
      "execution_count": 13,
      "outputs": [
        {
          "output_type": "stream",
          "name": "stdout",
          "text": [
            "The price for each item is $10.00.  The sub-total is $100.00, and the grand total, including a 10% tax, is also $100.00.\n"
          ]
        }
      ]
    },
    {
      "cell_type": "code",
      "source": [
        "response = model.generate_content([\"Extract the price, currency, and any discounts trom this image.\", image])\n",
        "print(response.text)"
      ],
      "metadata": {
        "colab": {
          "base_uri": "https://localhost:8080/",
          "height": 104
        },
        "id": "zhhtX3fUvT86",
        "outputId": "81ceaeb7-26c8-488b-e519-5f5ece67b915"
      },
      "execution_count": 14,
      "outputs": [
        {
          "output_type": "stream",
          "name": "stdout",
          "text": [
            "Here's the extracted information from the image:\n",
            "\n",
            "* **Price:** $10.00 (per item)\n",
            "* **Currency:** USD ($)\n",
            "* **Discounts:** None explicitly stated.  While the Grand Total and Sub Total are the same,  a 10% tax is applied, meaning there is no discount applied to the items themselves.\n"
          ]
        }
      ]
    },
    {
      "cell_type": "code",
      "source": [
        "# Open an image for object recognition\n",
        "\n",
        "image_path = \"bicycle.jpg\"  # Change to your image file\n",
        "\n",
        "image = Image.open(image_path)\n",
        "\n",
        "# Ask Gemini AI to identify objects in the image\n",
        "\n",
        "response = model.generate_content([\"Identify all objects present in this image.\", image])\n",
        "\n",
        "print(response.text)"
      ],
      "metadata": {
        "colab": {
          "base_uri": "https://localhost:8080/",
          "height": 173
        },
        "id": "d9C5WF4qv5kp",
        "outputId": "7b1daeaa-14f7-47d0-f58e-b57cce50d07a"
      },
      "execution_count": 15,
      "outputs": [
        {
          "output_type": "stream",
          "name": "stdout",
          "text": [
            "Here are the objects present in the image:\n",
            "\n",
            "* **Two men:** Riding bicycles.  One is wearing a blue shirt and camouflage shorts, the other a grey long-sleeved shirt and blue jeans.\n",
            "* **Two bicycles:**  One is predominantly yellow and black, the other white.\n",
            "* **A motorcycle:** Parked on the left side of the image.\n",
            "* **A building:** In the background with a roller shutter door and windows.\n",
            "* **A man:** Sitting inside the building in the background.\n",
            "* **Street:** Wet street surface.\n",
            "* **Vegetation:** Some grass is visible along the edge of the street.\n"
          ]
        }
      ]
    },
    {
      "cell_type": "code",
      "source": [
        "pip install youtube-transcript-api pytube"
      ],
      "metadata": {
        "colab": {
          "base_uri": "https://localhost:8080/"
        },
        "id": "N-mOFBERxZi3",
        "outputId": "8b9bb331-42a6-4d12-ec89-4039e1d34ee6"
      },
      "execution_count": 16,
      "outputs": [
        {
          "output_type": "stream",
          "name": "stdout",
          "text": [
            "Collecting youtube-transcript-api\n",
            "  Downloading youtube_transcript_api-1.0.1-py3-none-any.whl.metadata (22 kB)\n",
            "Collecting pytube\n",
            "  Downloading pytube-15.0.0-py3-none-any.whl.metadata (5.0 kB)\n",
            "Requirement already satisfied: defusedxml<0.8.0,>=0.7.1 in /usr/local/lib/python3.11/dist-packages (from youtube-transcript-api) (0.7.1)\n",
            "Requirement already satisfied: requests in /usr/local/lib/python3.11/dist-packages (from youtube-transcript-api) (2.32.3)\n",
            "Requirement already satisfied: charset-normalizer<4,>=2 in /usr/local/lib/python3.11/dist-packages (from requests->youtube-transcript-api) (3.4.1)\n",
            "Requirement already satisfied: idna<4,>=2.5 in /usr/local/lib/python3.11/dist-packages (from requests->youtube-transcript-api) (3.10)\n",
            "Requirement already satisfied: urllib3<3,>=1.21.1 in /usr/local/lib/python3.11/dist-packages (from requests->youtube-transcript-api) (2.3.0)\n",
            "Requirement already satisfied: certifi>=2017.4.17 in /usr/local/lib/python3.11/dist-packages (from requests->youtube-transcript-api) (2025.1.31)\n",
            "Downloading youtube_transcript_api-1.0.1-py3-none-any.whl (1.9 MB)\n",
            "\u001b[2K   \u001b[90m━━━━━━━━━━━━━━━━━━━━━━━━━━━━━━━━━━━━━━━━\u001b[0m \u001b[32m1.9/1.9 MB\u001b[0m \u001b[31m22.3 MB/s\u001b[0m eta \u001b[36m0:00:00\u001b[0m\n",
            "\u001b[?25hDownloading pytube-15.0.0-py3-none-any.whl (57 kB)\n",
            "\u001b[2K   \u001b[90m━━━━━━━━━━━━━━━━━━━━━━━━━━━━━━━━━━━━━━━━\u001b[0m \u001b[32m57.6/57.6 kB\u001b[0m \u001b[31m3.8 MB/s\u001b[0m eta \u001b[36m0:00:00\u001b[0m\n",
            "\u001b[?25hInstalling collected packages: pytube, youtube-transcript-api\n",
            "Successfully installed pytube-15.0.0 youtube-transcript-api-1.0.1\n"
          ]
        }
      ]
    },
    {
      "cell_type": "code",
      "source": [
        "from youtube_transcript_api import YouTubeTranscriptApi\n",
        "def get_youtube_transcript(video_url):\n",
        "    \"\"\"Fetches the transcript of a YouTube video.\"\"\"\n",
        "    video_id = video_url.split(\"v=\")[1].split(\"&\")[0]  # Extract video ID\n",
        "    transcript = YouTubeTranscriptApi.get_transcript(video_id)\n",
        "    full_text = \" \".join([t[\"text\"] for t in transcript])\n",
        "    return full_text\n",
        "# Example Usage\n",
        "video_url = \"https://www.youtube.com/watch?v=unYDoA8QGH0&list=PLWEpztHwA4ZT2QlHC74oIz4MsawcvE-QX\"\n",
        "video_transcript = get_youtube_transcript(video_url)\n",
        "print(\"Transcript:\\n\", video_transcript[:500])  # Show first 500 characters"
      ],
      "metadata": {
        "colab": {
          "base_uri": "https://localhost:8080/"
        },
        "id": "aogaHugfy38q",
        "outputId": "cd881a34-69ed-41e4-ded2-2edc767a3f9a"
      },
      "execution_count": 17,
      "outputs": [
        {
          "output_type": "stream",
          "name": "stdout",
          "text": [
            "Transcript:\n",
            " hi guys today I'm going to introduce you what is machine learning uh these are my presentation content what is machine learning what are the different applications of machine learning different types of machine learning and how to build a machine learning system or model then various kinds of algorithms and later on in this series we are going to take a Hands-On you know case studies or doing programming for various kinds of up algorithms so what is machine learning so machine learning is nothin\n"
          ]
        }
      ]
    },
    {
      "cell_type": "code",
      "source": [
        "def summarize_video(text):\n",
        "    \"\"\"Summarizes the YouTube video transcript using Gemini AI.\"\"\"\n",
        "    model = genai.GenerativeModel(\"gemini-1.5-flash\")\n",
        "    prompt = f\"Summarize the following YouTube video transcript:\\n\\n{text}\"\n",
        "    response = model.generate_content(prompt)\n",
        "    return response.text\n",
        "summary = summarize_video(video_transcript)\n",
        "print(\"Summary:\\n\", summary)"
      ],
      "metadata": {
        "colab": {
          "base_uri": "https://localhost:8080/",
          "height": 89
        },
        "id": "P0s6Edf0y6uH",
        "outputId": "0ae50c37-d3e9-483d-c637-4f5d98e3f793"
      },
      "execution_count": 18,
      "outputs": [
        {
          "output_type": "stream",
          "name": "stdout",
          "text": [
            "Summary:\n",
            " This YouTube video provides an introduction to machine learning.  The presenter covers the definition of machine learning (learning from data to make predictions), its various applications (speech recognition, web search, recommendation systems, computer vision, fraud detection, information retrieval), and its three main types: supervised (learning from labeled data), unsupervised (learning from unlabeled data), and reinforcement learning (learning through trial and error with rewards and penalties).  The video also details the steps in building a machine learning model, including data preprocessing (cleaning, scaling, encoding, feature selection), algorithm selection (e.g., decision trees, random forests), model building, and evaluation.  The presenter promises future videos with hands-on case studies and programming examples of various algorithms.  Key terms like features, attributes, samples, target variables, classification, and regression are explained.  The Iris dataset is mentioned as a common example for practice.\n",
            "\n"
          ]
        }
      ]
    },
    {
      "cell_type": "code",
      "source": [
        "def extract_video_insights(text):\n",
        "    \"\"\"Extracts key insights from the YouTube video transcript.\"\"\"\n",
        "    model = genai.GenerativeModel(\"gemini-1.5-flash\")\n",
        "    prompt = f\"Extract the key takeaways and insights from this YouTube video:\\n\\n{text}\"\n",
        "    response = model.generate_content(prompt)\n",
        "    return response.text\n",
        "insights = extract_video_insights(video_transcript)\n",
        "print(\"Key Insights:\\n\", insights)"
      ],
      "metadata": {
        "colab": {
          "base_uri": "https://localhost:8080/",
          "height": 991
        },
        "id": "Vl8QJI-f01UY",
        "outputId": "9855b75d-8f9b-424f-f783-8ff8d8f8bacb"
      },
      "execution_count": 19,
      "outputs": [
        {
          "output_type": "stream",
          "name": "stdout",
          "text": [
            "Key Insights:\n",
            " This YouTube video provides an introduction to machine learning. Here are the key takeaways and insights:\n",
            "\n",
            "**What is Machine Learning?**\n",
            "\n",
            "* **Core Concept:** Machine learning is about learning from data.  It's a subfield of AI that creates systems capable of learning from experience (past data) without explicit programming.  The learned patterns are represented in a \"model,\" which is then used for prediction.\n",
            "* **Formal Definition (Arthur Samuel):**  A field of study that gives computers the ability to learn without being explicitly programmed.\n",
            "* **Simplified Definition:** Learning from data.\n",
            "* **Process:** Data (training data) -> Algorithm -> Model -> Prediction.\n",
            "\n",
            "**Applications of Machine Learning:**\n",
            "\n",
            "The video highlights the broad applicability of machine learning across numerous domains, including:\n",
            "\n",
            "* **Speech Recognition:**  Powering virtual assistants like Siri and Google Assistant.\n",
            "* **Web Search:** Improving search engine relevance using algorithms like Naive Bayes.\n",
            "* **Recommendation Systems:** Suggesting products or content based on user data.\n",
            "* **Computer Vision:** Understanding and interpreting images and videos (object recognition, image classification).\n",
            "* **Information Retrieval:** Processing vast amounts of data to deliver relevant information (like Google search).\n",
            "* **Fraud Detection:** Identifying malicious activities.\n",
            "\n",
            "**Types of Machine Learning:**\n",
            "\n",
            "The video categorizes machine learning into three main types:\n",
            "\n",
            "* **Supervised Learning:**  The training data includes labels or outcomes.  The model learns to predict the outcome based on the input features.  This is further divided into:\n",
            "    * **Classification:** Predicting categorical outcomes (e.g., spam/not spam, digit recognition).\n",
            "    * **Regression:** Predicting continuous outcomes (e.g., salary, temperature).\n",
            "* **Unsupervised Learning:** The training data lacks labels. The model aims to discover patterns and structures in the data. Examples include:\n",
            "    * **Clustering:** Grouping similar data points together.\n",
            "    * **Dimensionality Reduction:** Reducing the number of features while retaining important information.\n",
            "* **Reinforcement Learning:** An agent learns through trial and error by interacting with an environment and receiving rewards or penalties.  Examples include game playing and robotics.\n",
            "\n",
            "**Building a Machine Learning Model:**\n",
            "\n",
            "The video outlines a typical machine learning workflow:\n",
            "\n",
            "1. **Data Preprocessing:** Cleaning, scaling, encoding, and selecting relevant features from the raw data.\n",
            "2. **Algorithm Selection:** Choosing an appropriate algorithm (e.g., decision tree, random forest, K-nearest neighbors) based on the problem type and data characteristics.\n",
            "3. **Model Building:** Applying the chosen algorithm to the processed data to create a predictive model.\n",
            "4. **Model Evaluation:** Assessing the model's accuracy and performance using various metrics.\n",
            "\n",
            "**Key Terms:**\n",
            "\n",
            "The video emphasizes understanding key terminology, including:\n",
            "\n",
            "* **Features/Attributes:** Columns in a dataset (excluding the target variable).\n",
            "* **Target Variable/Response Variable:** The column to be predicted.\n",
            "* **Samples/Instances/Observations:** Rows in a dataset.\n",
            "* **Training Data:** Data used to build the model.\n",
            "* **Validation Data:** Data used to evaluate the model's performance.\n",
            "\n",
            "\n",
            "**Overall:**  The video serves as a good high-level introduction to the field of machine learning, covering its core concepts, applications, types, and the general process of building models.  It sets the stage for more detailed explorations of specific algorithms and techniques in future videos.\n",
            "\n"
          ]
        }
      ]
    },
    {
      "cell_type": "code",
      "source": [],
      "metadata": {
        "id": "BaOhbr-Y2V2D"
      },
      "execution_count": null,
      "outputs": []
    }
  ]
}