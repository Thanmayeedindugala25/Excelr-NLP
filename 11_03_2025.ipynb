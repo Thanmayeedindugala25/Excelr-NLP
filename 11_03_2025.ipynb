{
  "nbformat": 4,
  "nbformat_minor": 0,
  "metadata": {
    "colab": {
      "provenance": [],
      "authorship_tag": "ABX9TyNd67Yw94J8AlK9dEJzG4H1",
      "include_colab_link": true
    },
    "kernelspec": {
      "name": "python3",
      "display_name": "Python 3"
    },
    "language_info": {
      "name": "python"
    }
  },
  "cells": [
    {
      "cell_type": "markdown",
      "metadata": {
        "id": "view-in-github",
        "colab_type": "text"
      },
      "source": [
        "<a href=\"https://colab.research.google.com/github/Thanmayeedindugala25/Excelr-NLP/blob/main/11_03_2025.ipynb\" target=\"_parent\"><img src=\"https://colab.research.google.com/assets/colab-badge.svg\" alt=\"Open In Colab\"/></a>"
      ]
    },
    {
      "cell_type": "code",
      "execution_count": null,
      "metadata": {
        "id": "jSXBnOFS9pet"
      },
      "outputs": [],
      "source": [
        "import google.generativeai as genai\n",
        "from google.colab import userdata\n",
        "GOOGLE_API_KEY=userdata.get('GOOGLE_API_KEY')\n",
        "genai.configure(api_key=GOOGLE_API_KEY)"
      ]
    },
    {
      "cell_type": "code",
      "source": [
        "import pathlib\n",
        "import textwrap\n",
        "from IPython.display import display, Markdown\n",
        "def to_markdown(text):\n",
        "  text = text.replace('•', '  *')\n",
        "  return Markdown(textwrap.indent(text, '> ', predicate=lambda _: True))"
      ],
      "metadata": {
        "id": "s9vGM6Lj_Aan"
      },
      "execution_count": null,
      "outputs": []
    },
    {
      "cell_type": "code",
      "source": [
        "import PIL.Image\n",
        "img = PIL.Image.open('image1.jpg')\n",
        "img\n",
        "model = genai.GenerativeModel('gemini-1.5-flash')\n",
        "response = model.generate_content([\"Write a short, engaging blog post based on this picture. It should include a description of the meal in the photo and talk about my journey meal prepping.\", img], stream=True)\n",
        "response.resolve()"
      ],
      "metadata": {
        "id": "2wDW6iNC_G6z"
      },
      "execution_count": null,
      "outputs": []
    },
    {
      "cell_type": "code",
      "source": [
        "to_markdown(response.text)"
      ],
      "metadata": {
        "colab": {
          "base_uri": "https://localhost:8080/",
          "height": 489
        },
        "id": "vrV0alfP_IB4",
        "outputId": "9a5672f3-3664-4103-e4e6-b90024f5f4ea"
      },
      "execution_count": null,
      "outputs": [
        {
          "output_type": "execute_result",
          "data": {
            "text/plain": [
              "<IPython.core.display.Markdown object>"
            ],
            "text/markdown": "> ## My Meal Prep Journey: From Chaos to Colorful Containers!\n> \n> Look at these beauties!  These aren't just lunch containers; they're my little victories against the lunchtime struggle.  Each one holds a perfectly portioned serving of deliciousness: fluffy white rice, a vibrant mix of roasted carrots and red peppers, tender broccoli florets, and succulent teriyaki chicken.  It's my go-to meal prep recipe, and the colors alone brighten my day.\n> \n> My meal prep journey wasn't always this picturesque. It started with the usual chaotic scramble – grabbing whatever was quick and easy (read: unhealthy!), leading to inconsistent energy levels and a less-than-stellar diet.  I felt sluggish and constantly battling cravings.  \n> \n> Then, I decided enough was enough.  I started small, prepping just one or two meals a week. I experimented with different recipes, figuring out what I enjoyed and what worked best with my schedule.  It wasn't always easy. There were times I felt overwhelmed by the chopping and cooking, times I didn't quite nail the portion sizes.  But slowly, I found a rhythm.\n> \n> Now, meal prepping is a mindful practice.  It's about nourishing my body and making healthy choices a breeze.  It saves me time and money, and most importantly, it keeps me feeling energized and ready to tackle anything the day throws at me.  Seeing these colorful containers lined up in my fridge is a constant reminder of the progress I've made.  And honestly, the satisfaction of knowing I've got a healthy, delicious lunch waiting for me makes all the effort completely worthwhile!  What are your favorite meal prep tips? Share them in the comments!\n"
          },
          "metadata": {},
          "execution_count": 8
        }
      ]
    },
    {
      "cell_type": "code",
      "source": [
        "response = model.generate_content([\"Generate an accurate caption for this image.\", img])\n",
        "print(response.text)"
      ],
      "metadata": {
        "id": "YpF94cB4_96u",
        "colab": {
          "base_uri": "https://localhost:8080/",
          "height": 401
        },
        "outputId": "1a56a72a-3248-4677-d8ac-01586d5f5124"
      },
      "execution_count": 9,
      "outputs": [
        {
          "output_type": "stream",
          "name": "stdout",
          "text": [
            "Here are a few caption options for the image:\n",
            "\n",
            "**Option 1 (Simple & Descriptive):**\n",
            "\n",
            "> Healthy and delicious meal prep!  Chicken and broccoli with rice, ready for the week.\n",
            "\n",
            "**Option 2 (More Engaging):**\n",
            "\n",
            "> Lunch goals!  These teriyaki chicken and veggie bowls are packed with flavor and perfect for a quick and healthy meal.  #mealprep #healthyfood #teriyaki #chicken\n",
            "\n",
            "**Option 3 (Focus on Convenience):**\n",
            "\n",
            "> Easy weeknight dinners, sorted!  Prepped these tasty chicken and broccoli bowls ahead of time for a stress-free week.\n",
            "\n",
            "**Option 4 (Question to Engage Audience):**\n",
            "\n",
            "> What's your favorite meal prep recipe?  These chicken and veggie bowls are definitely a top contender for me! #mealprepsunday #healthylifestyle #easyrecipes\n",
            "\n",
            "\n",
            "Choose the caption that best suits your intended audience and platform.  If you have specific details about the recipe or the purpose of the image (e.g., blog post, social media), let me know, and I can tailor the caption to better fit your needs.\n",
            "\n"
          ]
        }
      ]
    },
    {
      "cell_type": "code",
      "source": [
        "from PIL import Image\n",
        "# Open an image\n",
        "image_path = \"/content/image2.jpg\"\n",
        "image = Image.open(image_path)\n",
        "# Generate a description of the image\n",
        "response = model.generate_content([\"Describe this image in detail.\", image])\n",
        "print(response.text)"
      ],
      "metadata": {
        "colab": {
          "base_uri": "https://localhost:8080/",
          "height": 158
        },
        "id": "U4cRZZlYC-yX",
        "outputId": "4d7882f7-ce3c-4421-d71a-058a5e6f5e0f"
      },
      "execution_count": 10,
      "outputs": [
        {
          "output_type": "stream",
          "name": "stdout",
          "text": [
            "Here's a description of the image:\n",
            "\n",
            "Close-up view of a woman with shoulder-length, curly brown hair. \n",
            "\n",
            "\n",
            "She's smiling and gesturing with her right index finger, pointing towards something off-camera to the left. Her arms are crossed, with her left arm over her right. She is wearing a teal blue, three-quarter sleeve top or kurta with a subtle gold or light-colored print that appears to be a small floral or paisley design. The neckline is a modest, slightly open V-neck style with a small button or closure at the center. Her skin tone is medium, and she appears to be of South Asian descent. The background is a plain, off-white or light gray, providing a clean, uncluttered backdrop that focuses attention on the woman. The overall impression is one of friendliness and approachability. The lighting is soft and even, minimizing harsh shadows.\n",
            "\n"
          ]
        }
      ]
    },
    {
      "cell_type": "code",
      "source": [
        "response = model.generate_content([\"What emotions can you detect in this image?\", image])\n",
        "print(response.text)"
      ],
      "metadata": {
        "colab": {
          "base_uri": "https://localhost:8080/",
          "height": 263
        },
        "id": "fIICNzVuFQo_",
        "outputId": "c916b751-aa35-4300-b50b-086714545c57"
      },
      "execution_count": 11,
      "outputs": [
        {
          "output_type": "stream",
          "name": "stdout",
          "text": [
            "The woman in the image appears to be expressing a combination of emotions:\n",
            "\n",
            "* **Confidence:** Her posture is open and she's making direct eye contact with the camera.  The way she's pointing suggests she's assertive and knows what she's talking about.\n",
            "\n",
            "* **Friendliness:** Her smile is warm and inviting, suggesting approachability and a positive demeanor.\n",
            "\n",
            "* **Helpfulness:** The pointing gesture indicates that she is trying to guide or direct the viewer's attention to something.  This suggests helpfulness or a willingness to share information.\n",
            "\n",
            "* **Slight amusement or playfulness:** There is a hint of lightheartedness in her expression; it is not a strictly formal or serious pose.\n",
            "\n",
            "\n",
            "Overall, the dominant emotion is a confident and friendly helpfulness.\n",
            "\n"
          ]
        }
      ]
    },
    {
      "cell_type": "code",
      "source": [],
      "metadata": {
        "id": "wASbJCE5FucO"
      },
      "execution_count": null,
      "outputs": []
    }
  ]
}